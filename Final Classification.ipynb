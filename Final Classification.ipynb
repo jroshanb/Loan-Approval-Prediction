{
 "cells": [
  {
   "cell_type": "code",
   "execution_count": 77,
   "id": "c99fa417-7503-415f-907b-46b98699cd1d",
   "metadata": {
    "tags": []
   },
   "outputs": [],
   "source": [
    "import pandas as pd\n",
    "import numpy as np\n",
    "import matplotlib.pyplot as plt"
   ]
  },
  {
   "cell_type": "code",
   "execution_count": 79,
   "id": "7eae8a12-32ac-46aa-907b-32c3456b1e88",
   "metadata": {
    "tags": []
   },
   "outputs": [
    {
     "data": {
      "text/html": [
       "<div>\n",
       "<style scoped>\n",
       "    .dataframe tbody tr th:only-of-type {\n",
       "        vertical-align: middle;\n",
       "    }\n",
       "\n",
       "    .dataframe tbody tr th {\n",
       "        vertical-align: top;\n",
       "    }\n",
       "\n",
       "    .dataframe thead th {\n",
       "        text-align: right;\n",
       "    }\n",
       "</style>\n",
       "<table border=\"1\" class=\"dataframe\">\n",
       "  <thead>\n",
       "    <tr style=\"text-align: right;\">\n",
       "      <th></th>\n",
       "      <th>ApplicationDate</th>\n",
       "      <th>Age</th>\n",
       "      <th>AnnualIncome</th>\n",
       "      <th>CreditScore</th>\n",
       "      <th>EmploymentStatus</th>\n",
       "      <th>EducationLevel</th>\n",
       "      <th>Experience</th>\n",
       "      <th>LoanAmount</th>\n",
       "      <th>LoanDuration</th>\n",
       "      <th>MaritalStatus</th>\n",
       "      <th>...</th>\n",
       "      <th>MonthlyIncome</th>\n",
       "      <th>UtilityBillsPaymentHistory</th>\n",
       "      <th>JobTenure</th>\n",
       "      <th>NetWorth</th>\n",
       "      <th>BaseInterestRate</th>\n",
       "      <th>InterestRate</th>\n",
       "      <th>MonthlyLoanPayment</th>\n",
       "      <th>TotalDebtToIncomeRatio</th>\n",
       "      <th>LoanApproved</th>\n",
       "      <th>RiskScore</th>\n",
       "    </tr>\n",
       "  </thead>\n",
       "  <tbody>\n",
       "    <tr>\n",
       "      <th>0</th>\n",
       "      <td>01/01/2018</td>\n",
       "      <td>45</td>\n",
       "      <td>39948</td>\n",
       "      <td>617</td>\n",
       "      <td>Employed</td>\n",
       "      <td>Master</td>\n",
       "      <td>22</td>\n",
       "      <td>13152</td>\n",
       "      <td>48</td>\n",
       "      <td>Married</td>\n",
       "      <td>...</td>\n",
       "      <td>3329.000000</td>\n",
       "      <td>0.724972</td>\n",
       "      <td>11</td>\n",
       "      <td>126928</td>\n",
       "      <td>0.199652</td>\n",
       "      <td>0.227590</td>\n",
       "      <td>419.805992</td>\n",
       "      <td>0.181077</td>\n",
       "      <td>0</td>\n",
       "      <td>49.0</td>\n",
       "    </tr>\n",
       "    <tr>\n",
       "      <th>1</th>\n",
       "      <td>02/01/2018</td>\n",
       "      <td>38</td>\n",
       "      <td>39709</td>\n",
       "      <td>628</td>\n",
       "      <td>Employed</td>\n",
       "      <td>Associate</td>\n",
       "      <td>15</td>\n",
       "      <td>26045</td>\n",
       "      <td>48</td>\n",
       "      <td>Single</td>\n",
       "      <td>...</td>\n",
       "      <td>3309.083333</td>\n",
       "      <td>0.935132</td>\n",
       "      <td>3</td>\n",
       "      <td>43609</td>\n",
       "      <td>0.207045</td>\n",
       "      <td>0.201077</td>\n",
       "      <td>794.054238</td>\n",
       "      <td>0.389852</td>\n",
       "      <td>0</td>\n",
       "      <td>52.0</td>\n",
       "    </tr>\n",
       "    <tr>\n",
       "      <th>2</th>\n",
       "      <td>03/01/2018</td>\n",
       "      <td>47</td>\n",
       "      <td>40724</td>\n",
       "      <td>570</td>\n",
       "      <td>Employed</td>\n",
       "      <td>Bachelor</td>\n",
       "      <td>26</td>\n",
       "      <td>17627</td>\n",
       "      <td>36</td>\n",
       "      <td>Married</td>\n",
       "      <td>...</td>\n",
       "      <td>3393.666667</td>\n",
       "      <td>0.872241</td>\n",
       "      <td>6</td>\n",
       "      <td>5205</td>\n",
       "      <td>0.217627</td>\n",
       "      <td>0.212548</td>\n",
       "      <td>666.406688</td>\n",
       "      <td>0.462157</td>\n",
       "      <td>0</td>\n",
       "      <td>52.0</td>\n",
       "    </tr>\n",
       "    <tr>\n",
       "      <th>3</th>\n",
       "      <td>04/01/2018</td>\n",
       "      <td>58</td>\n",
       "      <td>69084</td>\n",
       "      <td>545</td>\n",
       "      <td>Employed</td>\n",
       "      <td>High School</td>\n",
       "      <td>34</td>\n",
       "      <td>37898</td>\n",
       "      <td>96</td>\n",
       "      <td>Single</td>\n",
       "      <td>...</td>\n",
       "      <td>5757.000000</td>\n",
       "      <td>0.896155</td>\n",
       "      <td>5</td>\n",
       "      <td>99452</td>\n",
       "      <td>0.300398</td>\n",
       "      <td>0.300911</td>\n",
       "      <td>1047.506980</td>\n",
       "      <td>0.313098</td>\n",
       "      <td>0</td>\n",
       "      <td>54.0</td>\n",
       "    </tr>\n",
       "    <tr>\n",
       "      <th>4</th>\n",
       "      <td>05/01/2018</td>\n",
       "      <td>37</td>\n",
       "      <td>103264</td>\n",
       "      <td>594</td>\n",
       "      <td>Employed</td>\n",
       "      <td>Associate</td>\n",
       "      <td>17</td>\n",
       "      <td>9184</td>\n",
       "      <td>36</td>\n",
       "      <td>Married</td>\n",
       "      <td>...</td>\n",
       "      <td>8605.333333</td>\n",
       "      <td>0.941369</td>\n",
       "      <td>5</td>\n",
       "      <td>227019</td>\n",
       "      <td>0.197184</td>\n",
       "      <td>0.175990</td>\n",
       "      <td>330.179141</td>\n",
       "      <td>0.070210</td>\n",
       "      <td>1</td>\n",
       "      <td>36.0</td>\n",
       "    </tr>\n",
       "  </tbody>\n",
       "</table>\n",
       "<p>5 rows × 36 columns</p>\n",
       "</div>"
      ],
      "text/plain": [
       "  ApplicationDate  Age  AnnualIncome  CreditScore EmploymentStatus  \\\n",
       "0      01/01/2018   45         39948          617         Employed   \n",
       "1      02/01/2018   38         39709          628         Employed   \n",
       "2      03/01/2018   47         40724          570         Employed   \n",
       "3      04/01/2018   58         69084          545         Employed   \n",
       "4      05/01/2018   37        103264          594         Employed   \n",
       "\n",
       "  EducationLevel  Experience  LoanAmount  LoanDuration MaritalStatus  ...  \\\n",
       "0         Master          22       13152            48       Married  ...   \n",
       "1      Associate          15       26045            48        Single  ...   \n",
       "2       Bachelor          26       17627            36       Married  ...   \n",
       "3    High School          34       37898            96        Single  ...   \n",
       "4      Associate          17        9184            36       Married  ...   \n",
       "\n",
       "   MonthlyIncome UtilityBillsPaymentHistory  JobTenure  NetWorth  \\\n",
       "0    3329.000000                   0.724972         11    126928   \n",
       "1    3309.083333                   0.935132          3     43609   \n",
       "2    3393.666667                   0.872241          6      5205   \n",
       "3    5757.000000                   0.896155          5     99452   \n",
       "4    8605.333333                   0.941369          5    227019   \n",
       "\n",
       "   BaseInterestRate  InterestRate  MonthlyLoanPayment  TotalDebtToIncomeRatio  \\\n",
       "0          0.199652      0.227590          419.805992                0.181077   \n",
       "1          0.207045      0.201077          794.054238                0.389852   \n",
       "2          0.217627      0.212548          666.406688                0.462157   \n",
       "3          0.300398      0.300911         1047.506980                0.313098   \n",
       "4          0.197184      0.175990          330.179141                0.070210   \n",
       "\n",
       "  LoanApproved  RiskScore  \n",
       "0            0       49.0  \n",
       "1            0       52.0  \n",
       "2            0       52.0  \n",
       "3            0       54.0  \n",
       "4            1       36.0  \n",
       "\n",
       "[5 rows x 36 columns]"
      ]
     },
     "execution_count": 79,
     "metadata": {},
     "output_type": "execute_result"
    }
   ],
   "source": [
    "df = pd.read_csv(r\"D:\\MBA\\3rd Semester\\MBAG-305-Machine Learning\\Final Project\\Financial Risk for Loan Approval.csv\")\n",
    "df.head()"
   ]
  },
  {
   "cell_type": "code",
   "execution_count": 81,
   "id": "267b759e-0bb0-4089-901f-38697c46148e",
   "metadata": {
    "tags": []
   },
   "outputs": [],
   "source": [
    "df = df.drop([\"ApplicationDate\", \"MonthlyIncome\",\"BaseInterestRate\", \"InterestRate\", \"TotalDebtToIncomeRatio\", \"CreditScore\"], axis=1)"
   ]
  },
  {
   "cell_type": "code",
   "execution_count": 83,
   "id": "04565bb9-d3d5-4efa-8801-479cd506f513",
   "metadata": {
    "tags": []
   },
   "outputs": [
    {
     "data": {
      "text/plain": [
       "Index(['Age', 'AnnualIncome', 'EmploymentStatus', 'EducationLevel',\n",
       "       'Experience', 'LoanAmount', 'LoanDuration', 'MaritalStatus',\n",
       "       'NumberOfDependents', 'HomeOwnershipStatus', 'MonthlyDebtPayments',\n",
       "       'CreditCardUtilizationRate', 'NumberOfOpenCreditLines',\n",
       "       'NumberOfCreditInquiries', 'DebtToIncomeRatio', 'BankruptcyHistory',\n",
       "       'LoanPurpose', 'PreviousLoanDefaults', 'PaymentHistory',\n",
       "       'LengthOfCreditHistory', 'SavingsAccountBalance',\n",
       "       'CheckingAccountBalance', 'TotalAssets', 'TotalLiabilities',\n",
       "       'UtilityBillsPaymentHistory', 'JobTenure', 'NetWorth',\n",
       "       'MonthlyLoanPayment', 'LoanApproved', 'RiskScore'],\n",
       "      dtype='object')"
      ]
     },
     "execution_count": 83,
     "metadata": {},
     "output_type": "execute_result"
    }
   ],
   "source": [
    "df.columns"
   ]
  },
  {
   "cell_type": "code",
   "execution_count": 85,
   "id": "11f32620-6ab0-4759-9bd5-5930aa47a585",
   "metadata": {
    "tags": []
   },
   "outputs": [
    {
     "data": {
      "text/plain": [
       "(20000, 30)"
      ]
     },
     "execution_count": 85,
     "metadata": {},
     "output_type": "execute_result"
    }
   ],
   "source": [
    "df.shape"
   ]
  },
  {
   "cell_type": "code",
   "execution_count": 89,
   "id": "8e2f5898-0b6e-4c5e-92a9-2bbaa5672cb0",
   "metadata": {
    "tags": []
   },
   "outputs": [],
   "source": [
    "X = df.drop(\"LoanApproved\", axis=1)\n",
    "y = df[\"LoanApproved\"]"
   ]
  },
  {
   "cell_type": "code",
   "execution_count": 91,
   "id": "f1e72957-6381-4d33-a9c3-c15581b9d0fb",
   "metadata": {
    "tags": []
   },
   "outputs": [],
   "source": [
    "from sklearn.preprocessing import LabelEncoder\n",
    "le = LabelEncoder()\n",
    "category_cols = X.select_dtypes(\"object\").columns\n",
    "for c in category_cols:\n",
    "    X[c] = le.fit_transform(X[c].values)"
   ]
  },
  {
   "cell_type": "code",
   "execution_count": 93,
   "id": "54f78b1a-47f0-4a28-a2cd-69262cc53ade",
   "metadata": {
    "tags": []
   },
   "outputs": [],
   "source": [
    "from sklearn.model_selection import train_test_split\n",
    "Xtrain, Xtest, ytrain, ytest = train_test_split(X, y, test_size=0.3)"
   ]
  },
  {
   "cell_type": "code",
   "execution_count": 95,
   "id": "56825234-2b8e-42fa-85c4-2aa9af0abcbb",
   "metadata": {
    "tags": []
   },
   "outputs": [
    {
     "name": "stdout",
     "output_type": "stream",
     "text": [
      "<class 'pandas.core.frame.DataFrame'>\n",
      "Index: 14000 entries, 7183 to 19957\n",
      "Data columns (total 29 columns):\n",
      " #   Column                      Non-Null Count  Dtype  \n",
      "---  ------                      --------------  -----  \n",
      " 0   Age                         14000 non-null  int64  \n",
      " 1   AnnualIncome                14000 non-null  int64  \n",
      " 2   EmploymentStatus            14000 non-null  int32  \n",
      " 3   EducationLevel              14000 non-null  int32  \n",
      " 4   Experience                  14000 non-null  int64  \n",
      " 5   LoanAmount                  14000 non-null  int64  \n",
      " 6   LoanDuration                14000 non-null  int64  \n",
      " 7   MaritalStatus               14000 non-null  int32  \n",
      " 8   NumberOfDependents          14000 non-null  int64  \n",
      " 9   HomeOwnershipStatus         14000 non-null  int32  \n",
      " 10  MonthlyDebtPayments         14000 non-null  int64  \n",
      " 11  CreditCardUtilizationRate   14000 non-null  float64\n",
      " 12  NumberOfOpenCreditLines     14000 non-null  int64  \n",
      " 13  NumberOfCreditInquiries     14000 non-null  int64  \n",
      " 14  DebtToIncomeRatio           14000 non-null  float64\n",
      " 15  BankruptcyHistory           14000 non-null  int64  \n",
      " 16  LoanPurpose                 14000 non-null  int32  \n",
      " 17  PreviousLoanDefaults        14000 non-null  int64  \n",
      " 18  PaymentHistory              14000 non-null  int64  \n",
      " 19  LengthOfCreditHistory       14000 non-null  int64  \n",
      " 20  SavingsAccountBalance       14000 non-null  int64  \n",
      " 21  CheckingAccountBalance      14000 non-null  int64  \n",
      " 22  TotalAssets                 14000 non-null  int64  \n",
      " 23  TotalLiabilities            14000 non-null  int64  \n",
      " 24  UtilityBillsPaymentHistory  14000 non-null  float64\n",
      " 25  JobTenure                   14000 non-null  int64  \n",
      " 26  NetWorth                    14000 non-null  int64  \n",
      " 27  MonthlyLoanPayment          14000 non-null  float64\n",
      " 28  RiskScore                   14000 non-null  float64\n",
      "dtypes: float64(5), int32(5), int64(19)\n",
      "memory usage: 2.9 MB\n"
     ]
    }
   ],
   "source": [
    "Xtrain.info()"
   ]
  },
  {
   "cell_type": "code",
   "execution_count": 97,
   "id": "4f56c4a1-638b-4623-8797-7f5b69f01d98",
   "metadata": {
    "tags": []
   },
   "outputs": [
    {
     "data": {
      "text/plain": [
       "(6000,)"
      ]
     },
     "execution_count": 97,
     "metadata": {},
     "output_type": "execute_result"
    }
   ],
   "source": [
    "ytest.shape"
   ]
  },
  {
   "cell_type": "code",
   "execution_count": 99,
   "id": "f0d2ff79-d859-4d37-a433-d299d295a2d0",
   "metadata": {
    "tags": []
   },
   "outputs": [],
   "source": [
    "from sklearn.ensemble import RandomForestRegressor\n",
    "regressor = RandomForestRegressor(n_estimators = 200, random_state = 0)\n",
    "regressor.fit(Xtrain, ytrain)\n",
    "y_pred = regressor.predict(Xtest)"
   ]
  },
  {
   "cell_type": "code",
   "execution_count": 100,
   "id": "855f1964-251a-4246-a2a4-fdd08c70e06b",
   "metadata": {
    "tags": []
   },
   "outputs": [],
   "source": [
    "ytest = ytest.astype(\"category\")"
   ]
  },
  {
   "cell_type": "code",
   "execution_count": 101,
   "id": "e0121f10-dc9e-4181-ba78-85d80576e4e0",
   "metadata": {
    "tags": []
   },
   "outputs": [],
   "source": [
    "y_pred\n",
    "threshold = 0.5\n",
    "\n",
    "# Categorize probabilities as 1 and 0\n",
    "y_pred = (y_pred >= threshold).astype(int)"
   ]
  },
  {
   "cell_type": "code",
   "execution_count": 102,
   "id": "d4579ea2-25c6-46b7-9123-12e8380bfa47",
   "metadata": {
    "tags": []
   },
   "outputs": [
    {
     "name": "stdout",
     "output_type": "stream",
     "text": [
      "F1-score: 0.9837685250529287\n",
      "Confusion Matrix:\n",
      " [[4560   22]\n",
      " [  24 1394]]\n",
      "Accuracy: 0.9923333333333333\n",
      "Precision: 0.9844632768361582\n"
     ]
    }
   ],
   "source": [
    "from sklearn.metrics import f1_score, confusion_matrix, accuracy_score, precision_score\n",
    "\n",
    "# Assuming you have your true labels (y_true) and predicted labels (y_pred)\n",
    "f1 = f1_score(ytest, y_pred)\n",
    "cm = confusion_matrix(ytest, y_pred)\n",
    "acc = accuracy_score(ytest, y_pred)\n",
    "prec = precision_score(ytest, y_pred)\n",
    "print(\"F1-score:\", f1)\n",
    "print(\"Confusion Matrix:\\n\", cm)\n",
    "print(\"Accuracy:\", acc)\n",
    "print(\"Precision:\", prec)"
   ]
  },
  {
   "cell_type": "code",
   "execution_count": 103,
   "id": "c72b4bdc-9848-4b61-accc-e6ea12f7edb7",
   "metadata": {
    "tags": []
   },
   "outputs": [
    {
     "data": {
      "text/plain": [
       "99.63"
      ]
     },
     "execution_count": 103,
     "metadata": {},
     "output_type": "execute_result"
    }
   ],
   "source": [
    "from sklearn.metrics import accuracy_score\n",
    "regressor.score(Xtrain, ytrain)\n",
    "regressor = round(regressor.score(Xtrain, ytrain) * 100, 2)\n",
    "regressor"
   ]
  },
  {
   "cell_type": "code",
   "execution_count": 104,
   "id": "0fb06586-a3ce-4217-8ced-22b3d464066e",
   "metadata": {
    "tags": []
   },
   "outputs": [],
   "source": [
    "from sklearn.ensemble import RandomForestClassifier\n",
    "rf_model = RandomForestClassifier(random_state=42)\n",
    "rf_model.fit(X, y)\n",
    "feature_importances = rf_model.feature_importances_\n",
    "feature_names = X.columns "
   ]
  },
  {
   "cell_type": "code",
   "execution_count": 105,
   "id": "c9147d8e-3958-42ef-a080-9048c53b8e1b",
   "metadata": {
    "tags": []
   },
   "outputs": [
    {
     "name": "stdout",
     "output_type": "stream",
     "text": [
      "Feature Importances:\n",
      "Age: 0.008\n",
      "AnnualIncome: 0.186\n",
      "EmploymentStatus: 0.001\n",
      "EducationLevel: 0.005\n",
      "Experience: 0.007\n",
      "LoanAmount: 0.038\n",
      "LoanDuration: 0.008\n",
      "MaritalStatus: 0.001\n",
      "NumberOfDependents: 0.002\n",
      "HomeOwnershipStatus: 0.002\n",
      "MonthlyDebtPayments: 0.007\n",
      "CreditCardUtilizationRate: 0.006\n",
      "NumberOfOpenCreditLines: 0.003\n",
      "NumberOfCreditInquiries: 0.002\n",
      "DebtToIncomeRatio: 0.017\n",
      "BankruptcyHistory: 0.003\n",
      "LoanPurpose: 0.002\n",
      "PreviousLoanDefaults: 0.003\n",
      "PaymentHistory: 0.004\n",
      "LengthOfCreditHistory: 0.008\n",
      "SavingsAccountBalance: 0.005\n",
      "CheckingAccountBalance: 0.005\n",
      "TotalAssets: 0.017\n",
      "TotalLiabilities: 0.005\n",
      "UtilityBillsPaymentHistory: 0.005\n",
      "JobTenure: 0.003\n",
      "NetWorth: 0.017\n",
      "MonthlyLoanPayment: 0.021\n",
      "RiskScore: 0.609\n"
     ]
    }
   ],
   "source": [
    "print(\"Feature Importances:\")\n",
    "for feature, importance in zip(feature_names, feature_importances):\n",
    "    print(f\"{feature}: {importance:.3f}\")"
   ]
  },
  {
   "cell_type": "code",
   "execution_count": 106,
   "id": "6524e6f2-cab4-4955-93d6-4652a091757a",
   "metadata": {
    "tags": []
   },
   "outputs": [
    {
     "name": "stdout",
     "output_type": "stream",
     "text": [
      "Important Features:\n",
      "               Feature  Importance\n",
      "1         AnnualIncome    0.185742\n",
      "5           LoanAmount    0.038353\n",
      "14   DebtToIncomeRatio    0.017138\n",
      "22         TotalAssets    0.016810\n",
      "26            NetWorth    0.017103\n",
      "27  MonthlyLoanPayment    0.021193\n",
      "28           RiskScore    0.608513\n"
     ]
    }
   ],
   "source": [
    "importance_df = pd.DataFrame({\n",
    "    'Feature': feature_names,\n",
    "    'Importance': feature_importances\n",
    "})\n",
    "threshold = 0.01\n",
    "important_features_df = importance_df[importance_df['Importance'] > threshold]\n",
    "\n",
    "# Print the important features\n",
    "print(\"Important Features:\")\n",
    "print(important_features_df)"
   ]
  },
  {
   "cell_type": "code",
   "execution_count": 107,
   "id": "47fd1081-1b41-4445-9631-ede967648b5f",
   "metadata": {
    "tags": []
   },
   "outputs": [],
   "source": [
    "selected_features = important_features_df['Feature'].values\n",
    "X_important = X[selected_features]"
   ]
  },
  {
   "cell_type": "code",
   "execution_count": 108,
   "id": "d203792d-59ef-4f0e-b539-f34fb07d9c0f",
   "metadata": {
    "tags": []
   },
   "outputs": [
    {
     "data": {
      "text/html": [
       "<div>\n",
       "<style scoped>\n",
       "    .dataframe tbody tr th:only-of-type {\n",
       "        vertical-align: middle;\n",
       "    }\n",
       "\n",
       "    .dataframe tbody tr th {\n",
       "        vertical-align: top;\n",
       "    }\n",
       "\n",
       "    .dataframe thead th {\n",
       "        text-align: right;\n",
       "    }\n",
       "</style>\n",
       "<table border=\"1\" class=\"dataframe\">\n",
       "  <thead>\n",
       "    <tr style=\"text-align: right;\">\n",
       "      <th></th>\n",
       "      <th>AnnualIncome</th>\n",
       "      <th>LoanAmount</th>\n",
       "      <th>DebtToIncomeRatio</th>\n",
       "      <th>TotalAssets</th>\n",
       "      <th>NetWorth</th>\n",
       "      <th>MonthlyLoanPayment</th>\n",
       "      <th>RiskScore</th>\n",
       "    </tr>\n",
       "  </thead>\n",
       "  <tbody>\n",
       "    <tr>\n",
       "      <th>0</th>\n",
       "      <td>39948</td>\n",
       "      <td>13152</td>\n",
       "      <td>0.358336</td>\n",
       "      <td>146111</td>\n",
       "      <td>126928</td>\n",
       "      <td>419.805992</td>\n",
       "      <td>49.0</td>\n",
       "    </tr>\n",
       "    <tr>\n",
       "      <th>1</th>\n",
       "      <td>39709</td>\n",
       "      <td>26045</td>\n",
       "      <td>0.330274</td>\n",
       "      <td>53204</td>\n",
       "      <td>43609</td>\n",
       "      <td>794.054238</td>\n",
       "      <td>52.0</td>\n",
       "    </tr>\n",
       "    <tr>\n",
       "      <th>2</th>\n",
       "      <td>40724</td>\n",
       "      <td>17627</td>\n",
       "      <td>0.244729</td>\n",
       "      <td>25176</td>\n",
       "      <td>5205</td>\n",
       "      <td>666.406688</td>\n",
       "      <td>52.0</td>\n",
       "    </tr>\n",
       "    <tr>\n",
       "      <th>3</th>\n",
       "      <td>69084</td>\n",
       "      <td>37898</td>\n",
       "      <td>0.436244</td>\n",
       "      <td>104822</td>\n",
       "      <td>99452</td>\n",
       "      <td>1047.506980</td>\n",
       "      <td>54.0</td>\n",
       "    </tr>\n",
       "    <tr>\n",
       "      <th>4</th>\n",
       "      <td>103264</td>\n",
       "      <td>9184</td>\n",
       "      <td>0.078884</td>\n",
       "      <td>244305</td>\n",
       "      <td>227019</td>\n",
       "      <td>330.179141</td>\n",
       "      <td>36.0</td>\n",
       "    </tr>\n",
       "    <tr>\n",
       "      <th>...</th>\n",
       "      <td>...</td>\n",
       "      <td>...</td>\n",
       "      <td>...</td>\n",
       "      <td>...</td>\n",
       "      <td>...</td>\n",
       "      <td>...</td>\n",
       "      <td>...</td>\n",
       "    </tr>\n",
       "    <tr>\n",
       "      <th>19995</th>\n",
       "      <td>30180</td>\n",
       "      <td>24521</td>\n",
       "      <td>0.468077</td>\n",
       "      <td>80969</td>\n",
       "      <td>55327</td>\n",
       "      <td>905.767712</td>\n",
       "      <td>55.0</td>\n",
       "    </tr>\n",
       "    <tr>\n",
       "      <th>19996</th>\n",
       "      <td>49246</td>\n",
       "      <td>25818</td>\n",
       "      <td>0.317372</td>\n",
       "      <td>69571</td>\n",
       "      <td>64002</td>\n",
       "      <td>958.395633</td>\n",
       "      <td>54.0</td>\n",
       "    </tr>\n",
       "    <tr>\n",
       "      <th>19997</th>\n",
       "      <td>48958</td>\n",
       "      <td>37033</td>\n",
       "      <td>0.023014</td>\n",
       "      <td>108316</td>\n",
       "      <td>103663</td>\n",
       "      <td>945.427454</td>\n",
       "      <td>45.0</td>\n",
       "    </tr>\n",
       "    <tr>\n",
       "      <th>19998</th>\n",
       "      <td>41025</td>\n",
       "      <td>14760</td>\n",
       "      <td>0.534517</td>\n",
       "      <td>22085</td>\n",
       "      <td>10600</td>\n",
       "      <td>411.168284</td>\n",
       "      <td>59.0</td>\n",
       "    </tr>\n",
       "    <tr>\n",
       "      <th>19999</th>\n",
       "      <td>53227</td>\n",
       "      <td>32055</td>\n",
       "      <td>0.553434</td>\n",
       "      <td>83008</td>\n",
       "      <td>41372</td>\n",
       "      <td>1049.830407</td>\n",
       "      <td>59.0</td>\n",
       "    </tr>\n",
       "  </tbody>\n",
       "</table>\n",
       "<p>20000 rows × 7 columns</p>\n",
       "</div>"
      ],
      "text/plain": [
       "       AnnualIncome  LoanAmount  DebtToIncomeRatio  TotalAssets  NetWorth  \\\n",
       "0             39948       13152           0.358336       146111    126928   \n",
       "1             39709       26045           0.330274        53204     43609   \n",
       "2             40724       17627           0.244729        25176      5205   \n",
       "3             69084       37898           0.436244       104822     99452   \n",
       "4            103264        9184           0.078884       244305    227019   \n",
       "...             ...         ...                ...          ...       ...   \n",
       "19995         30180       24521           0.468077        80969     55327   \n",
       "19996         49246       25818           0.317372        69571     64002   \n",
       "19997         48958       37033           0.023014       108316    103663   \n",
       "19998         41025       14760           0.534517        22085     10600   \n",
       "19999         53227       32055           0.553434        83008     41372   \n",
       "\n",
       "       MonthlyLoanPayment  RiskScore  \n",
       "0              419.805992       49.0  \n",
       "1              794.054238       52.0  \n",
       "2              666.406688       52.0  \n",
       "3             1047.506980       54.0  \n",
       "4              330.179141       36.0  \n",
       "...                   ...        ...  \n",
       "19995          905.767712       55.0  \n",
       "19996          958.395633       54.0  \n",
       "19997          945.427454       45.0  \n",
       "19998          411.168284       59.0  \n",
       "19999         1049.830407       59.0  \n",
       "\n",
       "[20000 rows x 7 columns]"
      ]
     },
     "execution_count": 108,
     "metadata": {},
     "output_type": "execute_result"
    }
   ],
   "source": [
    "X_important"
   ]
  },
  {
   "cell_type": "code",
   "execution_count": 119,
   "id": "2e4ab742-aea7-49d1-b3de-14e4d8ceb038",
   "metadata": {
    "tags": []
   },
   "outputs": [],
   "source": [
    "from sklearn.model_selection import train_test_split\n",
    "Xtrain, Xtest, ytrain, ytest = train_test_split(X_important, y, test_size=0.3)"
   ]
  },
  {
   "cell_type": "code",
   "execution_count": 121,
   "id": "b526b8de-a9b6-490a-818b-ea69088a5117",
   "metadata": {
    "tags": []
   },
   "outputs": [],
   "source": [
    "regressor = RandomForestRegressor(n_estimators = 200, random_state = 0)\n",
    "regressor.fit(Xtrain, ytrain)\n",
    "y_pred = regressor.predict(Xtest)"
   ]
  },
  {
   "cell_type": "code",
   "execution_count": 122,
   "id": "abda72fe-fc36-4352-a413-3b9d83d8e2fd",
   "metadata": {
    "tags": []
   },
   "outputs": [
    {
     "name": "stdout",
     "output_type": "stream",
     "text": [
      "Training score: 99.51%\n"
     ]
    }
   ],
   "source": [
    "regressor.score(Xtrain, ytrain)\n",
    "score = round(regressor.score(Xtrain, ytrain) * 100, 2)\n",
    "print(f\"Training score: {score}%\")"
   ]
  },
  {
   "cell_type": "code",
   "execution_count": 123,
   "id": "bf68438a-e7c2-423b-a4f6-03b86667cb47",
   "metadata": {
    "tags": []
   },
   "outputs": [],
   "source": [
    "from sklearn import tree"
   ]
  },
  {
   "cell_type": "code",
   "execution_count": 124,
   "id": "c0e94b93-c439-4d38-9c4a-ff3706bbb425",
   "metadata": {
    "tags": []
   },
   "outputs": [],
   "source": [
    "treeModel = tree.DecisionTreeClassifier()"
   ]
  },
  {
   "cell_type": "code",
   "execution_count": 125,
   "id": "12d1dad1-df00-4e6e-b899-5b2082da4664",
   "metadata": {
    "tags": []
   },
   "outputs": [
    {
     "data": {
      "text/html": [
       "<style>#sk-container-id-3 {color: black;}#sk-container-id-3 pre{padding: 0;}#sk-container-id-3 div.sk-toggleable {background-color: white;}#sk-container-id-3 label.sk-toggleable__label {cursor: pointer;display: block;width: 100%;margin-bottom: 0;padding: 0.3em;box-sizing: border-box;text-align: center;}#sk-container-id-3 label.sk-toggleable__label-arrow:before {content: \"▸\";float: left;margin-right: 0.25em;color: #696969;}#sk-container-id-3 label.sk-toggleable__label-arrow:hover:before {color: black;}#sk-container-id-3 div.sk-estimator:hover label.sk-toggleable__label-arrow:before {color: black;}#sk-container-id-3 div.sk-toggleable__content {max-height: 0;max-width: 0;overflow: hidden;text-align: left;background-color: #f0f8ff;}#sk-container-id-3 div.sk-toggleable__content pre {margin: 0.2em;color: black;border-radius: 0.25em;background-color: #f0f8ff;}#sk-container-id-3 input.sk-toggleable__control:checked~div.sk-toggleable__content {max-height: 200px;max-width: 100%;overflow: auto;}#sk-container-id-3 input.sk-toggleable__control:checked~label.sk-toggleable__label-arrow:before {content: \"▾\";}#sk-container-id-3 div.sk-estimator input.sk-toggleable__control:checked~label.sk-toggleable__label {background-color: #d4ebff;}#sk-container-id-3 div.sk-label input.sk-toggleable__control:checked~label.sk-toggleable__label {background-color: #d4ebff;}#sk-container-id-3 input.sk-hidden--visually {border: 0;clip: rect(1px 1px 1px 1px);clip: rect(1px, 1px, 1px, 1px);height: 1px;margin: -1px;overflow: hidden;padding: 0;position: absolute;width: 1px;}#sk-container-id-3 div.sk-estimator {font-family: monospace;background-color: #f0f8ff;border: 1px dotted black;border-radius: 0.25em;box-sizing: border-box;margin-bottom: 0.5em;}#sk-container-id-3 div.sk-estimator:hover {background-color: #d4ebff;}#sk-container-id-3 div.sk-parallel-item::after {content: \"\";width: 100%;border-bottom: 1px solid gray;flex-grow: 1;}#sk-container-id-3 div.sk-label:hover label.sk-toggleable__label {background-color: #d4ebff;}#sk-container-id-3 div.sk-serial::before {content: \"\";position: absolute;border-left: 1px solid gray;box-sizing: border-box;top: 0;bottom: 0;left: 50%;z-index: 0;}#sk-container-id-3 div.sk-serial {display: flex;flex-direction: column;align-items: center;background-color: white;padding-right: 0.2em;padding-left: 0.2em;position: relative;}#sk-container-id-3 div.sk-item {position: relative;z-index: 1;}#sk-container-id-3 div.sk-parallel {display: flex;align-items: stretch;justify-content: center;background-color: white;position: relative;}#sk-container-id-3 div.sk-item::before, #sk-container-id-3 div.sk-parallel-item::before {content: \"\";position: absolute;border-left: 1px solid gray;box-sizing: border-box;top: 0;bottom: 0;left: 50%;z-index: -1;}#sk-container-id-3 div.sk-parallel-item {display: flex;flex-direction: column;z-index: 1;position: relative;background-color: white;}#sk-container-id-3 div.sk-parallel-item:first-child::after {align-self: flex-end;width: 50%;}#sk-container-id-3 div.sk-parallel-item:last-child::after {align-self: flex-start;width: 50%;}#sk-container-id-3 div.sk-parallel-item:only-child::after {width: 0;}#sk-container-id-3 div.sk-dashed-wrapped {border: 1px dashed gray;margin: 0 0.4em 0.5em 0.4em;box-sizing: border-box;padding-bottom: 0.4em;background-color: white;}#sk-container-id-3 div.sk-label label {font-family: monospace;font-weight: bold;display: inline-block;line-height: 1.2em;}#sk-container-id-3 div.sk-label-container {text-align: center;}#sk-container-id-3 div.sk-container {/* jupyter's `normalize.less` sets `[hidden] { display: none; }` but bootstrap.min.css set `[hidden] { display: none !important; }` so we also need the `!important` here to be able to override the default hidden behavior on the sphinx rendered scikit-learn.org. See: https://github.com/scikit-learn/scikit-learn/issues/21755 */display: inline-block !important;position: relative;}#sk-container-id-3 div.sk-text-repr-fallback {display: none;}</style><div id=\"sk-container-id-3\" class=\"sk-top-container\"><div class=\"sk-text-repr-fallback\"><pre>DecisionTreeClassifier()</pre><b>In a Jupyter environment, please rerun this cell to show the HTML representation or trust the notebook. <br />On GitHub, the HTML representation is unable to render, please try loading this page with nbviewer.org.</b></div><div class=\"sk-container\" hidden><div class=\"sk-item\"><div class=\"sk-estimator sk-toggleable\"><input class=\"sk-toggleable__control sk-hidden--visually\" id=\"sk-estimator-id-3\" type=\"checkbox\" checked><label for=\"sk-estimator-id-3\" class=\"sk-toggleable__label sk-toggleable__label-arrow\">DecisionTreeClassifier</label><div class=\"sk-toggleable__content\"><pre>DecisionTreeClassifier()</pre></div></div></div></div></div>"
      ],
      "text/plain": [
       "DecisionTreeClassifier()"
      ]
     },
     "execution_count": 125,
     "metadata": {},
     "output_type": "execute_result"
    }
   ],
   "source": [
    "treeModel.fit(Xtrain,ytrain)"
   ]
  },
  {
   "cell_type": "code",
   "execution_count": 126,
   "id": "679372c0-b663-4631-b99d-2d0a53f9cdd5",
   "metadata": {
    "tags": []
   },
   "outputs": [
    {
     "data": {
      "text/plain": [
       "0.987"
      ]
     },
     "execution_count": 126,
     "metadata": {},
     "output_type": "execute_result"
    }
   ],
   "source": [
    "treeModel.score(Xtest,ytest)"
   ]
  },
  {
   "cell_type": "code",
   "execution_count": 127,
   "id": "80f4b4ac-3b01-484d-a910-06c62f4b7952",
   "metadata": {
    "tags": []
   },
   "outputs": [],
   "source": [
    "from sklearn.linear_model import LogisticRegression\n",
    "logRModel = LogisticRegression()"
   ]
  },
  {
   "cell_type": "code",
   "execution_count": 128,
   "id": "b7d1d16d-cd92-4b99-8c5f-6b3c6b309247",
   "metadata": {
    "tags": []
   },
   "outputs": [
    {
     "data": {
      "text/html": [
       "<style>#sk-container-id-4 {color: black;}#sk-container-id-4 pre{padding: 0;}#sk-container-id-4 div.sk-toggleable {background-color: white;}#sk-container-id-4 label.sk-toggleable__label {cursor: pointer;display: block;width: 100%;margin-bottom: 0;padding: 0.3em;box-sizing: border-box;text-align: center;}#sk-container-id-4 label.sk-toggleable__label-arrow:before {content: \"▸\";float: left;margin-right: 0.25em;color: #696969;}#sk-container-id-4 label.sk-toggleable__label-arrow:hover:before {color: black;}#sk-container-id-4 div.sk-estimator:hover label.sk-toggleable__label-arrow:before {color: black;}#sk-container-id-4 div.sk-toggleable__content {max-height: 0;max-width: 0;overflow: hidden;text-align: left;background-color: #f0f8ff;}#sk-container-id-4 div.sk-toggleable__content pre {margin: 0.2em;color: black;border-radius: 0.25em;background-color: #f0f8ff;}#sk-container-id-4 input.sk-toggleable__control:checked~div.sk-toggleable__content {max-height: 200px;max-width: 100%;overflow: auto;}#sk-container-id-4 input.sk-toggleable__control:checked~label.sk-toggleable__label-arrow:before {content: \"▾\";}#sk-container-id-4 div.sk-estimator input.sk-toggleable__control:checked~label.sk-toggleable__label {background-color: #d4ebff;}#sk-container-id-4 div.sk-label input.sk-toggleable__control:checked~label.sk-toggleable__label {background-color: #d4ebff;}#sk-container-id-4 input.sk-hidden--visually {border: 0;clip: rect(1px 1px 1px 1px);clip: rect(1px, 1px, 1px, 1px);height: 1px;margin: -1px;overflow: hidden;padding: 0;position: absolute;width: 1px;}#sk-container-id-4 div.sk-estimator {font-family: monospace;background-color: #f0f8ff;border: 1px dotted black;border-radius: 0.25em;box-sizing: border-box;margin-bottom: 0.5em;}#sk-container-id-4 div.sk-estimator:hover {background-color: #d4ebff;}#sk-container-id-4 div.sk-parallel-item::after {content: \"\";width: 100%;border-bottom: 1px solid gray;flex-grow: 1;}#sk-container-id-4 div.sk-label:hover label.sk-toggleable__label {background-color: #d4ebff;}#sk-container-id-4 div.sk-serial::before {content: \"\";position: absolute;border-left: 1px solid gray;box-sizing: border-box;top: 0;bottom: 0;left: 50%;z-index: 0;}#sk-container-id-4 div.sk-serial {display: flex;flex-direction: column;align-items: center;background-color: white;padding-right: 0.2em;padding-left: 0.2em;position: relative;}#sk-container-id-4 div.sk-item {position: relative;z-index: 1;}#sk-container-id-4 div.sk-parallel {display: flex;align-items: stretch;justify-content: center;background-color: white;position: relative;}#sk-container-id-4 div.sk-item::before, #sk-container-id-4 div.sk-parallel-item::before {content: \"\";position: absolute;border-left: 1px solid gray;box-sizing: border-box;top: 0;bottom: 0;left: 50%;z-index: -1;}#sk-container-id-4 div.sk-parallel-item {display: flex;flex-direction: column;z-index: 1;position: relative;background-color: white;}#sk-container-id-4 div.sk-parallel-item:first-child::after {align-self: flex-end;width: 50%;}#sk-container-id-4 div.sk-parallel-item:last-child::after {align-self: flex-start;width: 50%;}#sk-container-id-4 div.sk-parallel-item:only-child::after {width: 0;}#sk-container-id-4 div.sk-dashed-wrapped {border: 1px dashed gray;margin: 0 0.4em 0.5em 0.4em;box-sizing: border-box;padding-bottom: 0.4em;background-color: white;}#sk-container-id-4 div.sk-label label {font-family: monospace;font-weight: bold;display: inline-block;line-height: 1.2em;}#sk-container-id-4 div.sk-label-container {text-align: center;}#sk-container-id-4 div.sk-container {/* jupyter's `normalize.less` sets `[hidden] { display: none; }` but bootstrap.min.css set `[hidden] { display: none !important; }` so we also need the `!important` here to be able to override the default hidden behavior on the sphinx rendered scikit-learn.org. See: https://github.com/scikit-learn/scikit-learn/issues/21755 */display: inline-block !important;position: relative;}#sk-container-id-4 div.sk-text-repr-fallback {display: none;}</style><div id=\"sk-container-id-4\" class=\"sk-top-container\"><div class=\"sk-text-repr-fallback\"><pre>LogisticRegression()</pre><b>In a Jupyter environment, please rerun this cell to show the HTML representation or trust the notebook. <br />On GitHub, the HTML representation is unable to render, please try loading this page with nbviewer.org.</b></div><div class=\"sk-container\" hidden><div class=\"sk-item\"><div class=\"sk-estimator sk-toggleable\"><input class=\"sk-toggleable__control sk-hidden--visually\" id=\"sk-estimator-id-4\" type=\"checkbox\" checked><label for=\"sk-estimator-id-4\" class=\"sk-toggleable__label sk-toggleable__label-arrow\">LogisticRegression</label><div class=\"sk-toggleable__content\"><pre>LogisticRegression()</pre></div></div></div></div></div>"
      ],
      "text/plain": [
       "LogisticRegression()"
      ]
     },
     "execution_count": 128,
     "metadata": {},
     "output_type": "execute_result"
    }
   ],
   "source": [
    "logRModel.fit(Xtrain,ytrain)"
   ]
  },
  {
   "cell_type": "code",
   "execution_count": 129,
   "id": "323a865d-448a-439d-9794-76b3f292bbfd",
   "metadata": {
    "tags": []
   },
   "outputs": [
    {
     "data": {
      "text/plain": [
       "0.9213333333333333"
      ]
     },
     "execution_count": 129,
     "metadata": {},
     "output_type": "execute_result"
    }
   ],
   "source": [
    "logRModel.score(Xtest,ytest)"
   ]
  },
  {
   "cell_type": "code",
   "execution_count": 130,
   "id": "f95bff43-81f9-434a-9855-246e8eb93675",
   "metadata": {
    "tags": []
   },
   "outputs": [
    {
     "name": "stdout",
     "output_type": "stream",
     "text": [
      "Decision Tree model has been pickled successfully.\n",
      "Logistic Regression model has been pickled successfully.\n",
      "Random Forest model has been pickled successfully.\n"
     ]
    }
   ],
   "source": [
    "import pickle \n",
    "\n",
    "with open('decision_tree_model.pkl', 'wb') as file:\n",
    "    pickle.dump(treeModel, file)\n",
    "\n",
    "print(\"Decision Tree model has been pickled successfully.\")\n",
    "\n",
    "with open('logistic_regression_model.pkl', 'wb') as file:\n",
    "    pickle.dump(logRModel, file)\n",
    "\n",
    "print(\"Logistic Regression model has been pickled successfully.\")\n",
    "\n",
    "with open('random_forest_model.pkl', 'wb') as file:\n",
    "    pickle.dump(regressor, file)\n",
    "\n",
    "print(\"Random Forest model has been pickled successfully.\")"
   ]
  }
 ],
 "metadata": {
  "kernelspec": {
   "display_name": "Python 3 (ipykernel)",
   "language": "python",
   "name": "python3"
  },
  "language_info": {
   "codemirror_mode": {
    "name": "ipython",
    "version": 3
   },
   "file_extension": ".py",
   "mimetype": "text/x-python",
   "name": "python",
   "nbconvert_exporter": "python",
   "pygments_lexer": "ipython3",
   "version": "3.11.5"
  }
 },
 "nbformat": 4,
 "nbformat_minor": 5
}
